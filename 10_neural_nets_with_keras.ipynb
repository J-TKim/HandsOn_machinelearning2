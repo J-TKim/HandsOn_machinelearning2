{
  "nbformat": 4,
  "nbformat_minor": 0,
  "metadata": {
    "colab": {
      "name": "10_neural_nets_with_keras.ipynb",
      "provenance": [],
      "collapsed_sections": []
    },
    "kernelspec": {
      "name": "python3",
      "display_name": "Python 3"
    },
    "accelerator": "GPU"
  },
  "cells": [
    {
      "cell_type": "code",
      "metadata": {
        "id": "ZxPtJ3f7acmy"
      },
      "source": [
        "import sys\r\n",
        "import os\r\n",
        "\r\n",
        "import sklearn\r\n",
        "import tensorflow as tf\r\n",
        "import numpy as np\r\n",
        "\r\n",
        "import matplotlib as mpl\r\n",
        "import matplotlib.pyplot as plt\r\n",
        "mpl.rc('axes', labelsize=14)\r\n",
        "mpl.rc('xtick', labelsize=12)\r\n",
        "mpl.rc('ytick', labelsize=12)\r\n",
        "\r\n",
        "import warnings\r\n",
        "warnings.filterwarnings(action=\"ignore\", message=\"^internal gelsd\")\r\n",
        "\r\n",
        "np.random.seed(42)"
      ],
      "execution_count": 1,
      "outputs": []
    },
    {
      "cell_type": "markdown",
      "metadata": {
        "id": "lBEcE80Ka6y3"
      },
      "source": [
        "# 10.1 생물학적 뉴런에서 인공 뉴런까지"
      ]
    },
    {
      "cell_type": "markdown",
      "metadata": {
        "id": "Wjo_UUnFbEEY"
      },
      "source": [
        "## 10.1.3 퍼셉트론"
      ]
    },
    {
      "cell_type": "code",
      "metadata": {
        "id": "ZjuYPUaDYvoS"
      },
      "source": [
        "def heaviside_step_function(z):\r\n",
        "    if z < 0:\r\n",
        "        return 0\r\n",
        "    else:\r\n",
        "        return 1\r\n",
        "\r\n",
        "def sign_function(z):\r\n",
        "    if z < 0:\r\n",
        "        return -1\r\n",
        "    elif z == 0:\r\n",
        "        return 0\r\n",
        "    else:\r\n",
        "        return 1"
      ],
      "execution_count": 2,
      "outputs": []
    },
    {
      "cell_type": "code",
      "metadata": {
        "id": "_8ge8dZvbzKY"
      },
      "source": [
        "import numpy as np\r\n",
        "from sklearn.datasets import load_iris\r\n",
        "from sklearn.linear_model import Perceptron\r\n",
        "\r\n",
        "iris = load_iris()\r\n",
        "X = iris.data[:, (2, 3)]\r\n",
        "y = (iris.target == 0).astype(np.int)\r\n",
        "\r\n",
        "per_clf = Perceptron(max_iter=1000, tol=1e-3, random_state=42)\r\n",
        "per_clf.fit(X, y)\r\n",
        "\r\n",
        "y_pred = per_clf.predict([[2, 0.5]])"
      ],
      "execution_count": 3,
      "outputs": []
    },
    {
      "cell_type": "code",
      "metadata": {
        "colab": {
          "base_uri": "https://localhost:8080/"
        },
        "id": "dsk-1gy9egXQ",
        "outputId": "10e7c672-94ef-41c0-85d4-9fdd0135e04a"
      },
      "source": [
        "y_pred"
      ],
      "execution_count": 4,
      "outputs": [
        {
          "output_type": "execute_result",
          "data": {
            "text/plain": [
              "array([1])"
            ]
          },
          "metadata": {
            "tags": []
          },
          "execution_count": 4
        }
      ]
    },
    {
      "cell_type": "code",
      "metadata": {
        "colab": {
          "base_uri": "https://localhost:8080/",
          "height": 291
        },
        "id": "WEMY7Yg7ehR2",
        "outputId": "40dcb7d0-7fcb-4c84-f526-7f08412dc23d"
      },
      "source": [
        "a = -per_clf.coef_[0][0] / per_clf.coef_[0][1]\r\n",
        "b = -per_clf.intercept_ / per_clf.coef_[0][1]\r\n",
        "\r\n",
        "axes = [0, 5, 0, 2]\r\n",
        "\r\n",
        "x0, x1 = np.meshgrid(\r\n",
        "    np.linspace(axes[0], axes[1], 500).reshape(-1, 1),\r\n",
        "    np.linspace(axes[2], axes[3], 500).reshape(-1, 1),\r\n",
        ")\r\n",
        "X_new = np.c_[x0.ravel(), x1.ravel()]\r\n",
        "y_predict = per_clf.predict(X_new)\r\n",
        "zz = y_predict.reshape(x0.shape)\r\n",
        "\r\n",
        "plt.figure(figsize=(10, 4))\r\n",
        "plt.plot(X[y==0, 0], X[y==0, 1], 'bs', label='Not Iris-Setosa')\r\n",
        "plt.plot(X[y==1, 0], X[y==1, 1], 'yo', label='Iris-Setosa')\r\n",
        "\r\n",
        "plt.plot([axes[0], axes[1]], [a * axes[0] + b, a * axes[1] + b], 'k-', linewidth=3)\r\n",
        "from matplotlib.colors import ListedColormap\r\n",
        "custom_cmap = ListedColormap(['#9898ff', '#fafab0'])  \r\n",
        "\r\n",
        "plt.contourf(x0, x1, zz, cmap=custom_cmap)\r\n",
        "plt.xlabel('Petal length', fontsize=14)\r\n",
        "plt.ylabel('Petal width', fontsize=14)\r\n",
        "plt.legend(loc='lower right', fontsize=14)\r\n",
        "plt.axis(axes)\r\n",
        "\r\n",
        "plt.show()"
      ],
      "execution_count": 5,
      "outputs": [
        {
          "output_type": "display_data",
          "data": {
            "image/png": "[encoded data removed]",
            "text/plain": [
              "<Figure size 720x288 with 1 Axes>"
            ]
          },
          "metadata": {
            "tags": [],
            "needs_background": "light"
          }
        }
      ]
    },
    {
      "cell_type": "markdown",
      "metadata": {
        "id": "Vs6C8OpGoMME"
      },
      "source": [
        "## 10.1.4 다층 퍼셉트론과 역전파"
      ]
    },
    {
      "cell_type": "code",
      "metadata": {
        "id": "OQtIxjZcln9T"
      },
      "source": [
        "# 활성화함수(activation function)\r\n",
        "def sigmoid(z):\r\n",
        "    return 1 / (1 + np.exp(-z))\r\n",
        "\r\n",
        "def relu(z):\r\n",
        "    return np.maximum(0, z)\r\n",
        "\r\n",
        "def derivative(f, z, eps=0.000001):\r\n",
        "    return (f(z + eps) - f(z - eps)) / (2 * eps)"
      ],
      "execution_count": 6,
      "outputs": []
    },
    {
      "cell_type": "code",
      "metadata": {
        "colab": {
          "base_uri": "https://localhost:8080/",
          "height": 284
        },
        "id": "m9IKMGzCtT5a",
        "outputId": "ccb926c3-6f18-46c7-a547-30fd924c4e02"
      },
      "source": [
        "z = np.linspace(-5, 5, 200)\r\n",
        "\r\n",
        "plt.figure(figsize=(11, 4))\r\n",
        "\r\n",
        "plt.subplot(121)\r\n",
        "plt.plot(z, np.sign(z), 'r-', linewidth=1, label='Step')\r\n",
        "plt.plot(z, sigmoid(z), 'g--', linewidth=2, label='Sigmoid')\r\n",
        "plt.plot(z, np.tanh(z), 'b-', linewidth=2, label='Tanh')\r\n",
        "plt.plot(z, relu(z), 'm-', linewidth=2, label='ReLU')\r\n",
        "plt.grid(True)\r\n",
        "plt.legend(loc='center right', fontsize=14)\r\n",
        "plt.title('Activation functions', fontsize=14)\r\n",
        "plt.axis([-5, 5, -1.2, 1.2])\r\n",
        "\r\n",
        "plt.subplot(122)\r\n",
        "plt.plot(z, derivative(np.sign, z), 'r-', linewidth=1, label='Step')\r\n",
        "plt.plot(0, 0, 'ro', markersize=5)\r\n",
        "plt.plot(0, 0, 'rx', markersize=10)\r\n",
        "plt.plot(z, derivative(sigmoid, z), 'g--', linewidth=2, label='Sigmoid')\r\n",
        "plt.plot(z, derivative(np.tanh, z), 'b--', linewidth=2, label='Tanh')\r\n",
        "plt.plot(z, derivative(relu, z), 'm-', linewidth=2, label='ReLU')\r\n",
        "plt.grid(True)\r\n",
        "\r\n",
        "# plt.legend(loc='center right', fontsize=14)\r\n",
        "plt.title('Derivatives', fontsize=14)\r\n",
        "plt.axis([-5, 5, -0.2, 1.2])\r\n",
        "\r\n",
        "plt.show()"
      ],
      "execution_count": 7,
      "outputs": [
        {
          "output_type": "display_data",
          "data": {
            "image/png": "[encoded data removed]",
            "text/plain": [
              "<Figure size 792x288 with 2 Axes>"
            ]
          },
          "metadata": {
            "tags": [],
            "needs_background": "light"
          }
        }
      ]
    },
    {
      "cell_type": "code",
      "metadata": {
        "id": "nbCB2NK6ulsu"
      },
      "source": [
        "def heaviside(z):\r\n",
        "    return (z >= 0).astype(z.dtype)\r\n",
        "\r\n",
        "def mlp_xor(x1, x2, activation=heaviside):\r\n",
        "    return activation(-activation(x1 + x2 - 1.5) + activation(x1 + x2 - 0.5) - 0.5)"
      ],
      "execution_count": 8,
      "outputs": []
    },
    {
      "cell_type": "code",
      "metadata": {
        "colab": {
          "base_uri": "https://localhost:8080/",
          "height": 284
        },
        "id": "9J9iFpXCwFrp",
        "outputId": "c6b96ecb-5a12-40bb-9d84-863388ec7e22"
      },
      "source": [
        "x1s = np.linspace(-0.2, 1.2, 100)\r\n",
        "x2s = np.linspace(-0.2, 1.2, 100)\r\n",
        "x1, x2 = np.meshgrid(x1s, x2s)\r\n",
        "\r\n",
        "z1 = mlp_xor(x1, x2, activation=heaviside)\r\n",
        "z2 = mlp_xor(x1, x2, activation=sigmoid)\r\n",
        "\r\n",
        "plt.figure(figsize=(10, 4))\r\n",
        "\r\n",
        "plt.subplot(121)\r\n",
        "plt.contourf(x1, x2, z1)\r\n",
        "plt.plot([0, 1], [0, 1], 'gs', markersize=20)\r\n",
        "plt.plot([0, 1], [0, 1], 'y^', markersize=20)\r\n",
        "plt.title('Activation function: heaviside', fontsize=14)\r\n",
        "plt.grid(True)\r\n",
        "\r\n",
        "plt.subplot(122)\r\n",
        "plt.contourf(x1, x2, z2)\r\n",
        "plt.plot([0, 1], [0, 1], 'gs', markersize=20)\r\n",
        "plt.plot([0, 1], [1, 0], 'y^', markersize=20)\r\n",
        "plt.title('Activation function: Sigmoid', fontsize=14)\r\n",
        "plt.grid(True)"
      ],
      "execution_count": 9,
      "outputs": [
        {
          "output_type": "display_data",
          "data": {
            "image/png": "[encoded data removed]",
            "text/plain": [
              "<Figure size 720x288 with 2 Axes>"
            ]
          },
          "metadata": {
            "tags": [],
            "needs_background": "light"
          }
        }
      ]
    },
    {
      "cell_type": "markdown",
      "metadata": {
        "id": "a0hu30d3HL2Q"
      },
      "source": [
        "# 10.2 케라스로 다층 퍼셉트론 구현하기"
      ]
    },
    {
      "cell_type": "markdown",
      "metadata": {
        "id": "CSIGWCGSHOcy"
      },
      "source": [
        "## 10.2.2 시퀀셜 API를 사용하여 이미지 분류기 만들기"
      ]
    },
    {
      "cell_type": "code",
      "metadata": {
        "id": "zoKQcXGGwdbA"
      },
      "source": [
        "import tensorflow as tf\r\n",
        "from tensorflow import keras"
      ],
      "execution_count": 10,
      "outputs": []
    },
    {
      "cell_type": "code",
      "metadata": {
        "colab": {
          "base_uri": "https://localhost:8080/",
          "height": 34
        },
        "id": "Qp32d-rbHXMh",
        "outputId": "c1e10590-e31a-494b-96f5-c7851a049660"
      },
      "source": [
        "tf.__version__"
      ],
      "execution_count": 11,
      "outputs": [
        {
          "output_type": "execute_result",
          "data": {
            "application/vnd.google.colaboratory.intrinsic+json": {
              "type": "string"
            },
            "text/plain": [
              "'2.4.1'"
            ]
          },
          "metadata": {
            "tags": []
          },
          "execution_count": 11
        }
      ]
    },
    {
      "cell_type": "code",
      "metadata": {
        "colab": {
          "base_uri": "https://localhost:8080/",
          "height": 34
        },
        "id": "e0oMRQykHZhj",
        "outputId": "dea51fb5-b17b-4f66-9658-a1eb22606b8f"
      },
      "source": [
        "keras.__version__"
      ],
      "execution_count": 12,
      "outputs": [
        {
          "output_type": "execute_result",
          "data": {
            "application/vnd.google.colaboratory.intrinsic+json": {
              "type": "string"
            },
            "text/plain": [
              "'2.4.0'"
            ]
          },
          "metadata": {
            "tags": []
          },
          "execution_count": 12
        }
      ]
    },
    {
      "cell_type": "code",
      "metadata": {
        "id": "LuT6VZpeHdVk"
      },
      "source": [
        "fashion_mnist = keras.datasets.fashion_mnist\r\n",
        "(X_train_full, y_train_full), (X_test, y_test) = fashion_mnist.load_data()"
      ],
      "execution_count": 13,
      "outputs": []
    },
    {
      "cell_type": "code",
      "metadata": {
        "colab": {
          "base_uri": "https://localhost:8080/"
        },
        "id": "OgRK3mmpHzLc",
        "outputId": "d1bbd4b4-8382-46e8-fa38-67ce14b2672c"
      },
      "source": [
        "X_train_full.shape"
      ],
      "execution_count": 14,
      "outputs": [
        {
          "output_type": "execute_result",
          "data": {
            "text/plain": [
              "(60000, 28, 28)"
            ]
          },
          "metadata": {
            "tags": []
          },
          "execution_count": 14
        }
      ]
    },
    {
      "cell_type": "code",
      "metadata": {
        "colab": {
          "base_uri": "https://localhost:8080/"
        },
        "id": "f39iwTVUH12a",
        "outputId": "fdfb65d0-ab51-4cec-81ae-5e5b1d533f79"
      },
      "source": [
        "X_train_full.dtype"
      ],
      "execution_count": 15,
      "outputs": [
        {
          "output_type": "execute_result",
          "data": {
            "text/plain": [
              "dtype('uint8')"
            ]
          },
          "metadata": {
            "tags": []
          },
          "execution_count": 15
        }
      ]
    },
    {
      "cell_type": "code",
      "metadata": {
        "id": "yX9nCeGvH5sq"
      },
      "source": [
        "X_valid, X_train = X_train_full[:5000] / 255., X_train_full[5000:] / 255.\r\n",
        "y_valid, y_train = y_train_full[:5000], y_train_full[5000:]\r\n",
        "X_test = X_test / 255."
      ],
      "execution_count": 16,
      "outputs": []
    },
    {
      "cell_type": "code",
      "metadata": {
        "colab": {
          "base_uri": "https://localhost:8080/",
          "height": 247
        },
        "id": "MPhnjZsUIHRS",
        "outputId": "a6de5239-d7c0-4d5f-d269-677e8ada3b21"
      },
      "source": [
        "plt.imshow(X_train[0], cmap='binary')\r\n",
        "plt.axis('off')\r\n",
        "plt.show()"
      ],
      "execution_count": 17,
      "outputs": [
        {
          "output_type": "display_data",
          "data": {
            "image/png": "[encoded data removed]",
            "text/plain": [
              "<Figure size 432x288 with 1 Axes>"
            ]
          },
          "metadata": {
            "tags": [],
            "needs_background": "light"
          }
        }
      ]
    },
    {
      "cell_type": "code",
      "metadata": {
        "colab": {
          "base_uri": "https://localhost:8080/"
        },
        "id": "xL7zt62zIVdj",
        "outputId": "bec39e43-7440-4ed7-a7c6-1e3a8c2f29a2"
      },
      "source": [
        "y_train"
      ],
      "execution_count": 18,
      "outputs": [
        {
          "output_type": "execute_result",
          "data": {
            "text/plain": [
              "array([4, 0, 7, ..., 3, 0, 5], dtype=uint8)"
            ]
          },
          "metadata": {
            "tags": []
          },
          "execution_count": 18
        }
      ]
    },
    {
      "cell_type": "code",
      "metadata": {
        "id": "OnK650fGIac7"
      },
      "source": [
        "class_names = [\"T-shirt/top\", \"Trouser\", \"Pullover\", \"Dress\", \"Coat\",\r\n",
        "               \"Sandal\", \"Shirt\", \"Sneaker\", \"Bag\", \"Ankle boot\"]"
      ],
      "execution_count": 19,
      "outputs": []
    },
    {
      "cell_type": "code",
      "metadata": {
        "colab": {
          "base_uri": "https://localhost:8080/",
          "height": 34
        },
        "id": "0xFEFdnEIoO7",
        "outputId": "d75d625a-ea43-4537-ba2c-2170e247babc"
      },
      "source": [
        "class_names[y_train[0]]"
      ],
      "execution_count": 20,
      "outputs": [
        {
          "output_type": "execute_result",
          "data": {
            "application/vnd.google.colaboratory.intrinsic+json": {
              "type": "string"
            },
            "text/plain": [
              "'Coat'"
            ]
          },
          "metadata": {
            "tags": []
          },
          "execution_count": 20
        }
      ]
    },
    {
      "cell_type": "code",
      "metadata": {
        "colab": {
          "base_uri": "https://localhost:8080/",
          "height": 307
        },
        "id": "7WzvCHG9Iq2M",
        "outputId": "b2445350-0343-4527-bb38-a1f4be6b68ff"
      },
      "source": [
        "n_rows = 4\r\n",
        "n_cols = 10\r\n",
        "plt.figure(figsize=(n_cols * 1.2, n_rows * 1.2))\r\n",
        "for row in range(n_rows):\r\n",
        "    for col in range(n_cols):\r\n",
        "        index = n_cols * row + col\r\n",
        "        plt.subplot(n_rows, n_cols, index + 1)\r\n",
        "        plt.imshow(X_train[index], cmap='binary', interpolation='nearest')\r\n",
        "        plt.axis('off')\r\n",
        "        plt.title(class_names[y_train[index]], fontsize=12)\r\n",
        "plt.subplots_adjust(wspace=0.2, hspace=0.5)\r\n",
        "plt.show()"
      ],
      "execution_count": 21,
      "outputs": [
        {
          "output_type": "display_data",
          "data": {
            "image/png": "[encoded data removed]",
            "text/plain": [
              "<Figure size 864x345.6 with 40 Axes>"
            ]
          },
          "metadata": {
            "tags": [],
            "needs_background": "light"
          }
        }
      ]
    },
    {
      "cell_type": "code",
      "metadata": {
        "id": "hp9Z-uCZJJ7d"
      },
      "source": [
        "model = keras.models.Sequential()\r\n",
        "model.add(keras.layers.Flatten(input_shape=[28, 28]))\r\n",
        "model.add(keras.layers.Dense(300, activation=\"relu\"))\r\n",
        "model.add(keras.layers.Dense(100, activation=\"relu\"))\r\n",
        "model.add(keras.layers.Dense(10, activation=\"softmax\"))"
      ],
      "execution_count": 22,
      "outputs": []
    },
    {
      "cell_type": "code",
      "metadata": {
        "id": "wFkiGBqzJw_x"
      },
      "source": [
        "keras.backend.clear_session()\r\n",
        "np.random.seed(42)\r\n",
        "tf.random.set_seed(42)"
      ],
      "execution_count": 23,
      "outputs": []
    },
    {
      "cell_type": "code",
      "metadata": {
        "id": "z2ya4zTBJ4Pb"
      },
      "source": [
        "model = keras.models.Sequential([\r\n",
        "    keras.layers.Flatten(input_shape=[28, 28]),\r\n",
        "    keras.layers.Dense(300, activation='relu'),\r\n",
        "    keras.layers.Dense(100, activation='relu'),\r\n",
        "    keras.layers.Dense(10, activation='softmax')\r\n",
        "])"
      ],
      "execution_count": 24,
      "outputs": []
    },
    {
      "cell_type": "code",
      "metadata": {
        "colab": {
          "base_uri": "https://localhost:8080/"
        },
        "id": "AIeb9r5MKW_1",
        "outputId": "d57d71f7-60aa-4294-b913-532b2cce85b8"
      },
      "source": [
        "model.layers"
      ],
      "execution_count": 25,
      "outputs": [
        {
          "output_type": "execute_result",
          "data": {
            "text/plain": [
              "[<tensorflow.python.keras.layers.core.Flatten at 0x7fbf92066f50>,\n",
              " <tensorflow.python.keras.layers.core.Dense at 0x7fbf92074210>,\n",
              " <tensorflow.python.keras.layers.core.Dense at 0x7fbf92074610>,\n",
              " <tensorflow.python.keras.layers.core.Dense at 0x7fbf92074990>]"
            ]
          },
          "metadata": {
            "tags": []
          },
          "execution_count": 25
        }
      ]
    },
    {
      "cell_type": "code",
      "metadata": {
        "colab": {
          "base_uri": "https://localhost:8080/",
          "height": 533
        },
        "id": "TkoDxRjRMz59",
        "outputId": "170fb262-d2ba-46d0-9207-a64091cd45c2"
      },
      "source": [
        "keras.utils.plot_model(model, show_shapes=True)"
      ],
      "execution_count": 26,
      "outputs": [
        {
          "output_type": "execute_result",
          "data": {
            "image/png": "[encoded data removed]",
            "text/plain": [
              "<IPython.core.display.Image object>"
            ]
          },
          "metadata": {
            "tags": []
          },
          "execution_count": 26
        }
      ]
    },
    {
      "cell_type": "code",
      "metadata": {
        "colab": {
          "base_uri": "https://localhost:8080/"
        },
        "id": "IT25e0M7KgVC",
        "outputId": "b13ffc9e-675f-4b3a-eaa3-181cc1e5c544"
      },
      "source": [
        "model.summary()"
      ],
      "execution_count": 27,
      "outputs": [
        {
          "output_type": "stream",
          "text": [
            "Model: \"sequential\"\n",
            "_________________________________________________________________\n",
            "Layer (type)                 Output Shape              Param #   \n",
            "=================================================================\n",
            "flatten (Flatten)            (None, 784)               0         \n",
            "_________________________________________________________________\n",
            "dense (Dense)                (None, 300)               235500    \n",
            "_________________________________________________________________\n",
            "dense_1 (Dense)              (None, 100)               30100     \n",
            "_________________________________________________________________\n",
            "dense_2 (Dense)              (None, 10)                1010      \n",
            "=================================================================\n",
            "Total params: 266,610\n",
            "Trainable params: 266,610\n",
            "Non-trainable params: 0\n",
            "_________________________________________________________________\n"
          ],
          "name": "stdout"
        }
      ]
    },
    {
      "cell_type": "code",
      "metadata": {
        "colab": {
          "base_uri": "https://localhost:8080/",
          "height": 34
        },
        "id": "bYbhcXlCKiW6",
        "outputId": "e275b8a8-6303-48b6-b770-2b1b453dc5a9"
      },
      "source": [
        "hidden1 = model.layers[1]\r\n",
        "hidden1.name"
      ],
      "execution_count": 28,
      "outputs": [
        {
          "output_type": "execute_result",
          "data": {
            "application/vnd.google.colaboratory.intrinsic+json": {
              "type": "string"
            },
            "text/plain": [
              "'dense'"
            ]
          },
          "metadata": {
            "tags": []
          },
          "execution_count": 28
        }
      ]
    },
    {
      "cell_type": "code",
      "metadata": {
        "colab": {
          "base_uri": "https://localhost:8080/"
        },
        "id": "p0-A1SbgKy2L",
        "outputId": "0af9c1a4-546a-45d3-d8f7-0bb8a86b1582"
      },
      "source": [
        "model.get_layer(hidden1.name) is hidden1"
      ],
      "execution_count": 29,
      "outputs": [
        {
          "output_type": "execute_result",
          "data": {
            "text/plain": [
              "True"
            ]
          },
          "metadata": {
            "tags": []
          },
          "execution_count": 29
        }
      ]
    },
    {
      "cell_type": "code",
      "metadata": {
        "id": "OC1zRztVK2cb"
      },
      "source": [
        "weights, biases = hidden1.get_weights()"
      ],
      "execution_count": 30,
      "outputs": []
    },
    {
      "cell_type": "code",
      "metadata": {
        "colab": {
          "base_uri": "https://localhost:8080/"
        },
        "id": "yYoP_cjUK5tb",
        "outputId": "0985f7c7-82d4-4ecd-9287-1da152663174"
      },
      "source": [
        "weights"
      ],
      "execution_count": 31,
      "outputs": [
        {
          "output_type": "execute_result",
          "data": {
            "text/plain": [
              "array([[ 0.02448617, -0.00877795, -0.02189048, ..., -0.02766046,\n",
              "         0.03859074, -0.06889391],\n",
              "       [ 0.00476504, -0.03105379, -0.0586676 , ...,  0.00602964,\n",
              "        -0.02763776, -0.04165364],\n",
              "       [-0.06189284, -0.06901957,  0.07102345, ..., -0.04238207,\n",
              "         0.07121518, -0.07331658],\n",
              "       ...,\n",
              "       [-0.03048757,  0.02155137, -0.05400612, ..., -0.00113463,\n",
              "         0.00228987,  0.05581069],\n",
              "       [ 0.07061854, -0.06960931,  0.07038955, ..., -0.00384101,\n",
              "         0.00034875,  0.02878492],\n",
              "       [-0.06022581,  0.01577859, -0.02585464, ..., -0.00527829,\n",
              "         0.00272203, -0.06793761]], dtype=float32)"
            ]
          },
          "metadata": {
            "tags": []
          },
          "execution_count": 31
        }
      ]
    },
    {
      "cell_type": "code",
      "metadata": {
        "colab": {
          "base_uri": "https://localhost:8080/"
        },
        "id": "0tWpoq4AK7jt",
        "outputId": "419b5bc0-dc53-496f-b6a0-48a090db3838"
      },
      "source": [
        "weights.shape"
      ],
      "execution_count": 32,
      "outputs": [
        {
          "output_type": "execute_result",
          "data": {
            "text/plain": [
              "(784, 300)"
            ]
          },
          "metadata": {
            "tags": []
          },
          "execution_count": 32
        }
      ]
    },
    {
      "cell_type": "code",
      "metadata": {
        "colab": {
          "base_uri": "https://localhost:8080/"
        },
        "id": "eqh_ohfoK9ha",
        "outputId": "9e9053b6-8d10-4e82-a608-c847393f7aa2"
      },
      "source": [
        "biases"
      ],
      "execution_count": 33,
      "outputs": [
        {
          "output_type": "execute_result",
          "data": {
            "text/plain": [
              "array([0., 0., 0., 0., 0., 0., 0., 0., 0., 0., 0., 0., 0., 0., 0., 0., 0.,\n",
              "       0., 0., 0., 0., 0., 0., 0., 0., 0., 0., 0., 0., 0., 0., 0., 0., 0.,\n",
              "       0., 0., 0., 0., 0., 0., 0., 0., 0., 0., 0., 0., 0., 0., 0., 0., 0.,\n",
              "       0., 0., 0., 0., 0., 0., 0., 0., 0., 0., 0., 0., 0., 0., 0., 0., 0.,\n",
              "       0., 0., 0., 0., 0., 0., 0., 0., 0., 0., 0., 0., 0., 0., 0., 0., 0.,\n",
              "       0., 0., 0., 0., 0., 0., 0., 0., 0., 0., 0., 0., 0., 0., 0., 0., 0.,\n",
              "       0., 0., 0., 0., 0., 0., 0., 0., 0., 0., 0., 0., 0., 0., 0., 0., 0.,\n",
              "       0., 0., 0., 0., 0., 0., 0., 0., 0., 0., 0., 0., 0., 0., 0., 0., 0.,\n",
              "       0., 0., 0., 0., 0., 0., 0., 0., 0., 0., 0., 0., 0., 0., 0., 0., 0.,\n",
              "       0., 0., 0., 0., 0., 0., 0., 0., 0., 0., 0., 0., 0., 0., 0., 0., 0.,\n",
              "       0., 0., 0., 0., 0., 0., 0., 0., 0., 0., 0., 0., 0., 0., 0., 0., 0.,\n",
              "       0., 0., 0., 0., 0., 0., 0., 0., 0., 0., 0., 0., 0., 0., 0., 0., 0.,\n",
              "       0., 0., 0., 0., 0., 0., 0., 0., 0., 0., 0., 0., 0., 0., 0., 0., 0.,\n",
              "       0., 0., 0., 0., 0., 0., 0., 0., 0., 0., 0., 0., 0., 0., 0., 0., 0.,\n",
              "       0., 0., 0., 0., 0., 0., 0., 0., 0., 0., 0., 0., 0., 0., 0., 0., 0.,\n",
              "       0., 0., 0., 0., 0., 0., 0., 0., 0., 0., 0., 0., 0., 0., 0., 0., 0.,\n",
              "       0., 0., 0., 0., 0., 0., 0., 0., 0., 0., 0., 0., 0., 0., 0., 0., 0.,\n",
              "       0., 0., 0., 0., 0., 0., 0., 0., 0., 0., 0.], dtype=float32)"
            ]
          },
          "metadata": {
            "tags": []
          },
          "execution_count": 33
        }
      ]
    },
    {
      "cell_type": "code",
      "metadata": {
        "colab": {
          "base_uri": "https://localhost:8080/"
        },
        "id": "9ckYZ0SfK-zb",
        "outputId": "a77e2e62-36c3-43d5-d663-0dac630bf4a3"
      },
      "source": [
        "biases.shape"
      ],
      "execution_count": 34,
      "outputs": [
        {
          "output_type": "execute_result",
          "data": {
            "text/plain": [
              "(300,)"
            ]
          },
          "metadata": {
            "tags": []
          },
          "execution_count": 34
        }
      ]
    },
    {
      "cell_type": "code",
      "metadata": {
        "id": "XtA_ZuOFLLwj"
      },
      "source": [
        "model.compile(loss=\"sparse_categorical_crossentropy\",\r\n",
        "              optimizer=\"sgd\",\r\n",
        "              metrics=[\"accuracy\"])"
      ],
      "execution_count": 35,
      "outputs": []
    },
    {
      "cell_type": "code",
      "metadata": {
        "colab": {
          "base_uri": "https://localhost:8080/"
        },
        "id": "QnC12qMbLTgK",
        "outputId": "a095a2e2-7cee-4549-b248-18fbe36ba4df"
      },
      "source": [
        "history = model.fit(X_train, y_train, epochs=30,\r\n",
        "                    validation_data=(X_valid, y_valid))"
      ],
      "execution_count": 36,
      "outputs": [
        {
          "output_type": "stream",
          "text": [
            "Epoch 1/30\n",
            "1719/1719 [==============================] - 4s 2ms/step - loss: 1.0187 - accuracy: 0.6805 - val_loss: 0.5212 - val_accuracy: 0.8234\n",
            "Epoch 2/30\n",
            "1719/1719 [==============================] - 3s 2ms/step - loss: 0.5028 - accuracy: 0.8262 - val_loss: 0.4346 - val_accuracy: 0.8524\n",
            "Epoch 3/30\n",
            "1719/1719 [==============================] - 3s 2ms/step - loss: 0.4485 - accuracy: 0.8424 - val_loss: 0.5316 - val_accuracy: 0.7990\n",
            "Epoch 4/30\n",
            "1719/1719 [==============================] - 4s 2ms/step - loss: 0.4207 - accuracy: 0.8528 - val_loss: 0.3918 - val_accuracy: 0.8650\n",
            "Epoch 5/30\n",
            "1719/1719 [==============================] - 4s 2ms/step - loss: 0.4060 - accuracy: 0.8581 - val_loss: 0.3747 - val_accuracy: 0.8690\n",
            "Epoch 6/30\n",
            "1719/1719 [==============================] - 4s 2ms/step - loss: 0.3752 - accuracy: 0.8672 - val_loss: 0.3714 - val_accuracy: 0.8730\n",
            "Epoch 7/30\n",
            "1719/1719 [==============================] - 3s 2ms/step - loss: 0.3654 - accuracy: 0.8710 - val_loss: 0.3629 - val_accuracy: 0.8708\n",
            "Epoch 8/30\n",
            "1719/1719 [==============================] - 3s 2ms/step - loss: 0.3481 - accuracy: 0.8753 - val_loss: 0.3852 - val_accuracy: 0.8620\n",
            "Epoch 9/30\n",
            "1719/1719 [==============================] - 3s 2ms/step - loss: 0.3486 - accuracy: 0.8760 - val_loss: 0.3610 - val_accuracy: 0.8690\n",
            "Epoch 10/30\n",
            "1719/1719 [==============================] - 3s 2ms/step - loss: 0.3296 - accuracy: 0.8832 - val_loss: 0.3439 - val_accuracy: 0.8768\n",
            "Epoch 11/30\n",
            "1719/1719 [==============================] - 3s 2ms/step - loss: 0.3217 - accuracy: 0.8837 - val_loss: 0.3446 - val_accuracy: 0.8772\n",
            "Epoch 12/30\n",
            "1719/1719 [==============================] - 3s 2ms/step - loss: 0.3121 - accuracy: 0.8876 - val_loss: 0.3315 - val_accuracy: 0.8814\n",
            "Epoch 13/30\n",
            "1719/1719 [==============================] - 3s 2ms/step - loss: 0.3055 - accuracy: 0.8896 - val_loss: 0.3274 - val_accuracy: 0.8876\n",
            "Epoch 14/30\n",
            "1719/1719 [==============================] - 3s 2ms/step - loss: 0.2990 - accuracy: 0.8912 - val_loss: 0.3391 - val_accuracy: 0.8782\n",
            "Epoch 15/30\n",
            "1719/1719 [==============================] - 3s 2ms/step - loss: 0.2932 - accuracy: 0.8942 - val_loss: 0.3215 - val_accuracy: 0.8862\n",
            "Epoch 16/30\n",
            "1719/1719 [==============================] - 3s 2ms/step - loss: 0.2862 - accuracy: 0.8977 - val_loss: 0.3092 - val_accuracy: 0.8896\n",
            "Epoch 17/30\n",
            "1719/1719 [==============================] - 3s 2ms/step - loss: 0.2779 - accuracy: 0.9005 - val_loss: 0.3573 - val_accuracy: 0.8722\n",
            "Epoch 18/30\n",
            "1719/1719 [==============================] - 3s 2ms/step - loss: 0.2777 - accuracy: 0.9002 - val_loss: 0.3139 - val_accuracy: 0.8900\n",
            "Epoch 19/30\n",
            "1719/1719 [==============================] - 3s 2ms/step - loss: 0.2740 - accuracy: 0.9023 - val_loss: 0.3135 - val_accuracy: 0.8908\n",
            "Epoch 20/30\n",
            "1719/1719 [==============================] - 3s 2ms/step - loss: 0.2696 - accuracy: 0.9037 - val_loss: 0.3292 - val_accuracy: 0.8808\n",
            "Epoch 21/30\n",
            "1719/1719 [==============================] - 3s 2ms/step - loss: 0.2672 - accuracy: 0.9043 - val_loss: 0.3056 - val_accuracy: 0.8908\n",
            "Epoch 22/30\n",
            "1719/1719 [==============================] - 3s 2ms/step - loss: 0.2612 - accuracy: 0.9055 - val_loss: 0.2971 - val_accuracy: 0.8958\n",
            "Epoch 23/30\n",
            "1719/1719 [==============================] - 3s 2ms/step - loss: 0.2550 - accuracy: 0.9073 - val_loss: 0.2999 - val_accuracy: 0.8918\n",
            "Epoch 24/30\n",
            "1719/1719 [==============================] - 3s 2ms/step - loss: 0.2448 - accuracy: 0.9123 - val_loss: 0.3071 - val_accuracy: 0.8890\n",
            "Epoch 25/30\n",
            "1719/1719 [==============================] - 3s 2ms/step - loss: 0.2491 - accuracy: 0.9113 - val_loss: 0.2960 - val_accuracy: 0.8958\n",
            "Epoch 26/30\n",
            "1719/1719 [==============================] - 3s 2ms/step - loss: 0.2425 - accuracy: 0.9136 - val_loss: 0.3075 - val_accuracy: 0.8898\n",
            "Epoch 27/30\n",
            "1719/1719 [==============================] - 3s 2ms/step - loss: 0.2372 - accuracy: 0.9165 - val_loss: 0.3010 - val_accuracy: 0.8944\n",
            "Epoch 28/30\n",
            "1719/1719 [==============================] - 3s 2ms/step - loss: 0.2314 - accuracy: 0.9175 - val_loss: 0.2996 - val_accuracy: 0.8956\n",
            "Epoch 29/30\n",
            "1719/1719 [==============================] - 3s 2ms/step - loss: 0.2279 - accuracy: 0.9173 - val_loss: 0.3051 - val_accuracy: 0.8902\n",
            "Epoch 30/30\n",
            "1719/1719 [==============================] - 3s 2ms/step - loss: 0.2248 - accuracy: 0.9212 - val_loss: 0.2996 - val_accuracy: 0.8940\n"
          ],
          "name": "stdout"
        }
      ]
    },
    {
      "cell_type": "code",
      "metadata": {
        "colab": {
          "base_uri": "https://localhost:8080/"
        },
        "id": "2IULN12fLa7j",
        "outputId": "d88c7b0a-986a-4032-b8ad-5900a656fa84"
      },
      "source": [
        "history.params"
      ],
      "execution_count": 37,
      "outputs": [
        {
          "output_type": "execute_result",
          "data": {
            "text/plain": [
              "{'epochs': 30, 'steps': 1719, 'verbose': 1}"
            ]
          },
          "metadata": {
            "tags": []
          },
          "execution_count": 37
        }
      ]
    },
    {
      "cell_type": "code",
      "metadata": {
        "colab": {
          "base_uri": "https://localhost:8080/"
        },
        "id": "QQFXA7uRNR1b",
        "outputId": "c9cc21f7-a496-4543-da57-678c486bd87e"
      },
      "source": [
        "print(history.epoch)"
      ],
      "execution_count": 38,
      "outputs": [
        {
          "output_type": "stream",
          "text": [
            "[0, 1, 2, 3, 4, 5, 6, 7, 8, 9, 10, 11, 12, 13, 14, 15, 16, 17, 18, 19, 20, 21, 22, 23, 24, 25, 26, 27, 28, 29]\n"
          ],
          "name": "stdout"
        }
      ]
    },
    {
      "cell_type": "code",
      "metadata": {
        "colab": {
          "base_uri": "https://localhost:8080/"
        },
        "id": "up6BHmB1NTQq",
        "outputId": "6774b598-4dee-41e2-f7e0-8421b1122a66"
      },
      "source": [
        "history.history.keys()"
      ],
      "execution_count": 39,
      "outputs": [
        {
          "output_type": "execute_result",
          "data": {
            "text/plain": [
              "dict_keys(['loss', 'accuracy', 'val_loss', 'val_accuracy'])"
            ]
          },
          "metadata": {
            "tags": []
          },
          "execution_count": 39
        }
      ]
    },
    {
      "cell_type": "code",
      "metadata": {
        "colab": {
          "base_uri": "https://localhost:8080/",
          "height": 327
        },
        "id": "kIuM2usuNWfK",
        "outputId": "f27ff1ed-b516-406b-da13-5c84f76e0f94"
      },
      "source": [
        "import pandas as pd\r\n",
        "\r\n",
        "pd.DataFrame(history.history).plot(figsize=(8, 5))\r\n",
        "plt.grid(True)\r\n",
        "plt.gca().set_ylim(0, 1)\r\n",
        "plt.show()"
      ],
      "execution_count": 40,
      "outputs": [
        {
          "output_type": "display_data",
          "data": {
            "image/png": "[encoded data removed]",
            "text/plain": [
              "<Figure size 576x360 with 1 Axes>"
            ]
          },
          "metadata": {
            "tags": [],
            "needs_background": "light"
          }
        }
      ]
    },
    {
      "cell_type": "code",
      "metadata": {
        "colab": {
          "base_uri": "https://localhost:8080/"
        },
        "id": "icTzf6pYuv9x",
        "outputId": "37c3a8ec-adc4-4948-d8de-383616a6bcd5"
      },
      "source": [
        "model.evaluate(X_test, y_test)"
      ],
      "execution_count": 41,
      "outputs": [
        {
          "output_type": "stream",
          "text": [
            "313/313 [==============================] - 1s 2ms/step - loss: 0.3344 - accuracy: 0.8823\n"
          ],
          "name": "stdout"
        },
        {
          "output_type": "execute_result",
          "data": {
            "text/plain": [
              "[0.3344114124774933, 0.8823000192642212]"
            ]
          },
          "metadata": {
            "tags": []
          },
          "execution_count": 41
        }
      ]
    },
    {
      "cell_type": "code",
      "metadata": {
        "colab": {
          "base_uri": "https://localhost:8080/"
        },
        "id": "e0DLPDM9w_K2",
        "outputId": "5cc7db62-d5dc-41c6-c71e-5a4102854054"
      },
      "source": [
        "X_new = X_test[:3]\r\n",
        "y_proba = model.predict(X_new)\r\n",
        "y_proba.round(2)"
      ],
      "execution_count": 42,
      "outputs": [
        {
          "output_type": "execute_result",
          "data": {
            "text/plain": [
              "array([[0.  , 0.  , 0.  , 0.  , 0.  , 0.01, 0.  , 0.02, 0.  , 0.96],\n",
              "       [0.  , 0.  , 0.99, 0.  , 0.01, 0.  , 0.  , 0.  , 0.  , 0.  ],\n",
              "       [0.  , 1.  , 0.  , 0.  , 0.  , 0.  , 0.  , 0.  , 0.  , 0.  ]],\n",
              "      dtype=float32)"
            ]
          },
          "metadata": {
            "tags": []
          },
          "execution_count": 42
        }
      ]
    },
    {
      "cell_type": "code",
      "metadata": {
        "colab": {
          "base_uri": "https://localhost:8080/"
        },
        "id": "G5Ppys2Iw_FJ",
        "outputId": "2759b5c0-d1d5-4953-b3b5-41f2d7b525dd"
      },
      "source": [
        "y_pred = np.argmax(model.predict(X_new), axis=-1)\r\n",
        "y_pred"
      ],
      "execution_count": 43,
      "outputs": [
        {
          "output_type": "execute_result",
          "data": {
            "text/plain": [
              "array([9, 2, 1])"
            ]
          },
          "metadata": {
            "tags": []
          },
          "execution_count": 43
        }
      ]
    },
    {
      "cell_type": "code",
      "metadata": {
        "colab": {
          "base_uri": "https://localhost:8080/"
        },
        "id": "57BzwY2HxnF1",
        "outputId": "46c5ff7d-a3f8-4bf1-a11c-5c7ced5a30db"
      },
      "source": [
        "np.array(class_names)[y_pred]"
      ],
      "execution_count": 44,
      "outputs": [
        {
          "output_type": "execute_result",
          "data": {
            "text/plain": [
              "array(['Ankle boot', 'Pullover', 'Trouser'], dtype='<U11')"
            ]
          },
          "metadata": {
            "tags": []
          },
          "execution_count": 44
        }
      ]
    },
    {
      "cell_type": "code",
      "metadata": {
        "colab": {
          "base_uri": "https://localhost:8080/"
        },
        "id": "KPhX2oCuxquV",
        "outputId": "eb97cb5d-10fd-46dc-e905-b3a351d838c9"
      },
      "source": [
        "y_new = y_test[:3]\r\n",
        "y_new"
      ],
      "execution_count": 45,
      "outputs": [
        {
          "output_type": "execute_result",
          "data": {
            "text/plain": [
              "array([9, 2, 1], dtype=uint8)"
            ]
          },
          "metadata": {
            "tags": []
          },
          "execution_count": 45
        }
      ]
    },
    {
      "cell_type": "code",
      "metadata": {
        "colab": {
          "base_uri": "https://localhost:8080/",
          "height": 164
        },
        "id": "7nVytNHSxsVs",
        "outputId": "9be9527d-5fe4-4b60-bdb9-004f3b8d9ab3"
      },
      "source": [
        "plt.figure(figsize=(7.2, 2.4))\r\n",
        "for index, image in enumerate(X_new):\r\n",
        "    plt.subplot(1, 3, index + 1)\r\n",
        "    plt.imshow(image, cmap=\"binary\", interpolation=\"nearest\")\r\n",
        "    plt.axis('off')\r\n",
        "    plt.title(class_names[y_test[index]], fontsize=12)\r\n",
        "\r\n",
        "plt.subplots_adjust(wspace=0.2, hspace=0.5)\r\n",
        "plt.show()"
      ],
      "execution_count": 46,
      "outputs": [
        {
          "output_type": "display_data",
          "data": {
            "image/png": "[encoded data removed]",
            "text/plain": [
              "<Figure size 518.4x172.8 with 3 Axes>"
            ]
          },
          "metadata": {
            "tags": [],
            "needs_background": "light"
          }
        }
      ]
    },
    {
      "cell_type": "markdown",
      "metadata": {
        "id": "KzpDQQGc2YPT"
      },
      "source": [
        "## 10.2.3 시퀀셜 API를 사용하여 회귀용 다층 퍼셉트론 만들기"
      ]
    },
    {
      "cell_type": "code",
      "metadata": {
        "id": "jrfo1SxX2MmF"
      },
      "source": [
        "from sklearn.datasets import fetch_california_housing\r\n",
        "from sklearn.model_selection import train_test_split\r\n",
        "from sklearn.preprocessing import StandardScaler\r\n",
        "\r\n",
        "housing = fetch_california_housing()\r\n",
        "\r\n",
        "X_train_full, X_test, y_train_full, y_test = train_test_split(housing.data, housing.target, random_state=42)\r\n",
        "X_train, X_valid, y_train, y_valid = train_test_split(X_train_full, y_train_full, random_state=42)\r\n",
        "\r\n",
        "scaler = StandardScaler()\r\n",
        "X_train = scaler.fit_transform(X_train)\r\n",
        "X_valid = scaler.transform(X_valid)\r\n",
        "X_test = scaler.transform(X_test)"
      ],
      "execution_count": 47,
      "outputs": []
    },
    {
      "cell_type": "code",
      "metadata": {
        "id": "eRZnfDPt29al"
      },
      "source": [
        "np.random.seed(42)\r\n",
        "tf.random.set_seed(42)"
      ],
      "execution_count": 48,
      "outputs": []
    },
    {
      "cell_type": "code",
      "metadata": {
        "colab": {
          "base_uri": "https://localhost:8080/"
        },
        "id": "CwomOJit3PvV",
        "outputId": "1b92b4ad-89f7-4661-9433-116d5b001e72"
      },
      "source": [
        "model = keras.models.Sequential([\r\n",
        "    keras.layers.Dense(30, activation='relu', input_shape=X_train.shape[1:]),\r\n",
        "    keras.layers.Dense(1)                                 \r\n",
        "])\r\n",
        "\r\n",
        "model.compile(loss='mean_squared_error', optimizer=keras.optimizers.SGD(lr=1e-3))\r\n",
        "history = model.fit(X_train, y_train, epochs=20, validation_data=(X_valid, y_valid))\r\n",
        "mse_test = model.evaluate(X_test, y_test)\r\n",
        "X_new = X_test[:3]\r\n",
        "y_pred = model.predict(X_new)"
      ],
      "execution_count": 49,
      "outputs": [
        {
          "output_type": "stream",
          "text": [
            "Epoch 1/20\n",
            "363/363 [==============================] - 1s 2ms/step - loss: 2.2656 - val_loss: 0.8560\n",
            "Epoch 2/20\n",
            "363/363 [==============================] - 1s 2ms/step - loss: 0.7413 - val_loss: 0.6531\n",
            "Epoch 3/20\n",
            "363/363 [==============================] - 1s 2ms/step - loss: 0.6604 - val_loss: 0.6099\n",
            "Epoch 4/20\n",
            "363/363 [==============================] - 1s 2ms/step - loss: 0.6245 - val_loss: 0.5658\n",
            "Epoch 5/20\n",
            "363/363 [==============================] - 1s 2ms/step - loss: 0.5770 - val_loss: 0.5355\n",
            "Epoch 6/20\n",
            "363/363 [==============================] - 1s 2ms/step - loss: 0.5609 - val_loss: 0.5173\n",
            "Epoch 7/20\n",
            "363/363 [==============================] - 1s 2ms/step - loss: 0.5500 - val_loss: 0.5081\n",
            "Epoch 8/20\n",
            "363/363 [==============================] - 1s 2ms/step - loss: 0.5200 - val_loss: 0.4799\n",
            "Epoch 9/20\n",
            "363/363 [==============================] - 1s 2ms/step - loss: 0.5051 - val_loss: 0.4690\n",
            "Epoch 10/20\n",
            "363/363 [==============================] - 1s 2ms/step - loss: 0.4910 - val_loss: 0.4656\n",
            "Epoch 11/20\n",
            "363/363 [==============================] - 1s 2ms/step - loss: 0.4794 - val_loss: 0.4482\n",
            "Epoch 12/20\n",
            "363/363 [==============================] - 1s 2ms/step - loss: 0.4656 - val_loss: 0.4479\n",
            "Epoch 13/20\n",
            "363/363 [==============================] - 1s 2ms/step - loss: 0.4693 - val_loss: 0.4296\n",
            "Epoch 14/20\n",
            "363/363 [==============================] - 1s 2ms/step - loss: 0.4537 - val_loss: 0.4233\n",
            "Epoch 15/20\n",
            "363/363 [==============================] - 1s 2ms/step - loss: 0.4586 - val_loss: 0.4176\n",
            "Epoch 16/20\n",
            "363/363 [==============================] - 1s 2ms/step - loss: 0.4612 - val_loss: 0.4123\n",
            "Epoch 17/20\n",
            "363/363 [==============================] - 1s 2ms/step - loss: 0.4449 - val_loss: 0.4071\n",
            "Epoch 18/20\n",
            "363/363 [==============================] - 1s 2ms/step - loss: 0.4407 - val_loss: 0.4037\n",
            "Epoch 19/20\n",
            "363/363 [==============================] - 1s 2ms/step - loss: 0.4184 - val_loss: 0.4000\n",
            "Epoch 20/20\n",
            "363/363 [==============================] - 1s 2ms/step - loss: 0.4128 - val_loss: 0.3969\n",
            "162/162 [==============================] - 0s 1ms/step - loss: 0.4212\n"
          ],
          "name": "stdout"
        }
      ]
    },
    {
      "cell_type": "code",
      "metadata": {
        "colab": {
          "base_uri": "https://localhost:8080/",
          "height": 273
        },
        "id": "tVqf7MDa4L5n",
        "outputId": "4b3d0c60-0541-4da3-e8ff-b42a600855f4"
      },
      "source": [
        "plt.plot(pd.DataFrame(history.history))\r\n",
        "plt.grid(True)\r\n",
        "plt.gca().set_ylim(0, 1)\r\n",
        "plt.show()"
      ],
      "execution_count": 50,
      "outputs": [
        {
          "output_type": "display_data",
          "data": {
            "image/png": "[encoded data removed]",
            "text/plain": [
              "<Figure size 432x288 with 1 Axes>"
            ]
          },
          "metadata": {
            "tags": [],
            "needs_background": "light"
          }
        }
      ]
    },
    {
      "cell_type": "code",
      "metadata": {
        "colab": {
          "base_uri": "https://localhost:8080/"
        },
        "id": "olemjoMI4MOV",
        "outputId": "271ab300-baa3-4f03-faa9-fae42eb7e697"
      },
      "source": [
        "y_pred"
      ],
      "execution_count": 51,
      "outputs": [
        {
          "output_type": "execute_result",
          "data": {
            "text/plain": [
              "array([[0.38856646],\n",
              "       [1.6792021 ],\n",
              "       [3.1022797 ]], dtype=float32)"
            ]
          },
          "metadata": {
            "tags": []
          },
          "execution_count": 51
        }
      ]
    },
    {
      "cell_type": "markdown",
      "metadata": {
        "id": "yVIrTRVr4khP"
      },
      "source": [
        "## 10.2.4 함수형 API를 사용해 복잡한 모델 만들기"
      ]
    },
    {
      "cell_type": "code",
      "metadata": {
        "id": "KX6tIL5H4W0d"
      },
      "source": [
        "np.random.seed(42)\r\n",
        "tf.random.set_seed(42)"
      ],
      "execution_count": 52,
      "outputs": []
    },
    {
      "cell_type": "code",
      "metadata": {
        "id": "ChJibc5Z4rbN"
      },
      "source": [
        "input_ = keras.layers.Input(shape=X_train.shape[1:])\r\n",
        "hidden1 = keras.layers.Dense(30, activation='relu')(input_)\r\n",
        "hidden2 = keras.layers.Dense(30, activation='relu')(hidden1)\r\n",
        "concat = keras.layers.Concatenate()([input_, hidden2])\r\n",
        "output = keras.layers.Dense(1)(concat)\r\n",
        "model = keras.Model(inputs=[input_], outputs=[output])"
      ],
      "execution_count": 53,
      "outputs": []
    },
    {
      "cell_type": "code",
      "metadata": {
        "colab": {
          "base_uri": "https://localhost:8080/"
        },
        "id": "MTVPPNFf5RZ2",
        "outputId": "cd64ea65-ad7a-4ba8-c287-0aaf1498af2d"
      },
      "source": [
        "model.summary()"
      ],
      "execution_count": 54,
      "outputs": [
        {
          "output_type": "stream",
          "text": [
            "Model: \"model\"\n",
            "__________________________________________________________________________________________________\n",
            "Layer (type)                    Output Shape         Param #     Connected to                     \n",
            "==================================================================================================\n",
            "input_1 (InputLayer)            [(None, 8)]          0                                            \n",
            "__________________________________________________________________________________________________\n",
            "dense_5 (Dense)                 (None, 30)           270         input_1[0][0]                    \n",
            "__________________________________________________________________________________________________\n",
            "dense_6 (Dense)                 (None, 30)           930         dense_5[0][0]                    \n",
            "__________________________________________________________________________________________________\n",
            "concatenate (Concatenate)       (None, 38)           0           input_1[0][0]                    \n",
            "                                                                 dense_6[0][0]                    \n",
            "__________________________________________________________________________________________________\n",
            "dense_7 (Dense)                 (None, 1)            39          concatenate[0][0]                \n",
            "==================================================================================================\n",
            "Total params: 1,239\n",
            "Trainable params: 1,239\n",
            "Non-trainable params: 0\n",
            "__________________________________________________________________________________________________\n"
          ],
          "name": "stdout"
        }
      ]
    },
    {
      "cell_type": "code",
      "metadata": {
        "colab": {
          "base_uri": "https://localhost:8080/"
        },
        "id": "ks3GAii761Id",
        "outputId": "f2100bf5-0b49-4e8f-c21a-1dc8770a5e96"
      },
      "source": [
        "model.compile(loss='mean_squared_error', optimizer=keras.optimizers.SGD(lr=1e-3))\r\n",
        "history = model.fit(X_train, y_train, epochs=20,\r\n",
        "                    validation_data=(X_valid, y_valid))\r\n",
        "mse_test = model.evaluate(X_test, y_test)\r\n",
        "t_pred = model.predict(X_new)"
      ],
      "execution_count": 55,
      "outputs": [
        {
          "output_type": "stream",
          "text": [
            "Epoch 1/20\n",
            "363/363 [==============================] - 1s 2ms/step - loss: 1.9731 - val_loss: 3.3940\n",
            "Epoch 2/20\n",
            "363/363 [==============================] - 1s 2ms/step - loss: 0.7638 - val_loss: 0.9360\n",
            "Epoch 3/20\n",
            "363/363 [==============================] - 1s 2ms/step - loss: 0.6045 - val_loss: 0.5649\n",
            "Epoch 4/20\n",
            "363/363 [==============================] - 1s 2ms/step - loss: 0.5862 - val_loss: 0.5712\n",
            "Epoch 5/20\n",
            "363/363 [==============================] - 1s 2ms/step - loss: 0.5452 - val_loss: 0.5045\n",
            "Epoch 6/20\n",
            "363/363 [==============================] - 1s 2ms/step - loss: 0.5243 - val_loss: 0.4831\n",
            "Epoch 7/20\n",
            "363/363 [==============================] - 1s 2ms/step - loss: 0.5185 - val_loss: 0.4639\n",
            "Epoch 8/20\n",
            "363/363 [==============================] - 1s 2ms/step - loss: 0.4947 - val_loss: 0.4638\n",
            "Epoch 9/20\n",
            "363/363 [==============================] - 1s 2ms/step - loss: 0.4782 - val_loss: 0.4421\n",
            "Epoch 10/20\n",
            "363/363 [==============================] - 1s 2ms/step - loss: 0.4708 - val_loss: 0.4313\n",
            "Epoch 11/20\n",
            "363/363 [==============================] - 1s 2ms/step - loss: 0.4585 - val_loss: 0.4345\n",
            "Epoch 12/20\n",
            "363/363 [==============================] - 1s 2ms/step - loss: 0.4481 - val_loss: 0.4168\n",
            "Epoch 13/20\n",
            "363/363 [==============================] - 1s 2ms/step - loss: 0.4476 - val_loss: 0.4230\n",
            "Epoch 14/20\n",
            "363/363 [==============================] - 1s 2ms/step - loss: 0.4361 - val_loss: 0.4047\n",
            "Epoch 15/20\n",
            "363/363 [==============================] - 1s 2ms/step - loss: 0.4392 - val_loss: 0.4078\n",
            "Epoch 16/20\n",
            "363/363 [==============================] - 1s 2ms/step - loss: 0.4420 - val_loss: 0.3938\n",
            "Epoch 17/20\n",
            "363/363 [==============================] - 1s 2ms/step - loss: 0.4277 - val_loss: 0.3952\n",
            "Epoch 18/20\n",
            "363/363 [==============================] - 1s 2ms/step - loss: 0.4216 - val_loss: 0.3860\n",
            "Epoch 19/20\n",
            "363/363 [==============================] - 1s 2ms/step - loss: 0.4033 - val_loss: 0.3827\n",
            "Epoch 20/20\n",
            "363/363 [==============================] - 1s 2ms/step - loss: 0.3939 - val_loss: 0.4054\n",
            "162/162 [==============================] - 0s 1ms/step - loss: 0.4032\n"
          ],
          "name": "stdout"
        }
      ]
    },
    {
      "cell_type": "code",
      "metadata": {
        "id": "PvjzMp1M7qU2"
      },
      "source": [
        "np.random.seed(42)\r\n",
        "tf.random.set_seed(42)"
      ],
      "execution_count": 56,
      "outputs": []
    },
    {
      "cell_type": "code",
      "metadata": {
        "id": "HcVlmo_67vXE"
      },
      "source": [
        "input_A = keras.layers.Input(shape=[5], name='wide_input')\r\n",
        "input_B = keras.layers.Input(shape=[6], name='deep_input')\r\n",
        "hidden1 = keras.layers.Dense(30, activation='relu')(input_B)\r\n",
        "hidden2 = keras.layers.Dense(30, activation='relu')(hidden1)\r\n",
        "concat = keras.layers.concatenate([input_A, hidden2])\r\n",
        "output = keras.layers.Dense(1, name=\"output\")(concat)\r\n",
        "model = keras.models.Model(inputs=[input_A, input_B], outputs=[output])"
      ],
      "execution_count": 57,
      "outputs": []
    },
    {
      "cell_type": "code",
      "metadata": {
        "colab": {
          "base_uri": "https://localhost:8080/"
        },
        "id": "5tbXSTKR8Rl-",
        "outputId": "d61b931b-5f74-44d4-848d-c6ae734e6e39"
      },
      "source": [
        "model.compile(loss='mse', optimizer=keras.optimizers.SGD(lr=1e-3))\r\n",
        "\r\n",
        "X_train_A, X_train_B = X_train[:, :5], X_train[:, 2:]\r\n",
        "X_valid_A, X_valid_B = X_valid[:, :5], X_valid[:, 2:]\r\n",
        "X_test_A, X_test_B = X_test[:, :5], X_test[:, 2:]\r\n",
        "X_new_A, X_new_B = X_test_A[:3], X_test_B[:3]\r\n",
        "\r\n",
        "history = model.fit((X_train_A, X_train_B), y_train, epochs=20, validation_data=((X_valid_A, X_valid_B), y_valid))\r\n",
        "mse_test = model.evaluate((X_test_A, X_test_B), y_test)\r\n",
        "y_pred = model.predict((X_new_A, X_new_B))"
      ],
      "execution_count": 58,
      "outputs": [
        {
          "output_type": "stream",
          "text": [
            "Epoch 1/20\n",
            "363/363 [==============================] - 1s 2ms/step - loss: 3.1941 - val_loss: 0.8072\n",
            "Epoch 2/20\n",
            "363/363 [==============================] - 1s 2ms/step - loss: 0.7247 - val_loss: 0.6658\n",
            "Epoch 3/20\n",
            "363/363 [==============================] - 1s 2ms/step - loss: 0.6176 - val_loss: 0.5687\n",
            "Epoch 4/20\n",
            "363/363 [==============================] - 1s 2ms/step - loss: 0.5799 - val_loss: 0.5296\n",
            "Epoch 5/20\n",
            "363/363 [==============================] - 1s 2ms/step - loss: 0.5409 - val_loss: 0.4993\n",
            "Epoch 6/20\n",
            "363/363 [==============================] - 1s 2ms/step - loss: 0.5173 - val_loss: 0.4811\n",
            "Epoch 7/20\n",
            "363/363 [==============================] - 1s 2ms/step - loss: 0.5186 - val_loss: 0.4696\n",
            "Epoch 8/20\n",
            "363/363 [==============================] - 1s 2ms/step - loss: 0.4977 - val_loss: 0.4496\n",
            "Epoch 9/20\n",
            "363/363 [==============================] - 1s 2ms/step - loss: 0.4765 - val_loss: 0.4404\n",
            "Epoch 10/20\n",
            "363/363 [==============================] - 1s 2ms/step - loss: 0.4676 - val_loss: 0.4315\n",
            "Epoch 11/20\n",
            "363/363 [==============================] - 1s 2ms/step - loss: 0.4574 - val_loss: 0.4268\n",
            "Epoch 12/20\n",
            "363/363 [==============================] - 1s 2ms/step - loss: 0.4479 - val_loss: 0.4166\n",
            "Epoch 13/20\n",
            "363/363 [==============================] - 1s 2ms/step - loss: 0.4487 - val_loss: 0.4125\n",
            "Epoch 14/20\n",
            "363/363 [==============================] - 1s 2ms/step - loss: 0.4469 - val_loss: 0.4074\n",
            "Epoch 15/20\n",
            "363/363 [==============================] - 1s 2ms/step - loss: 0.4460 - val_loss: 0.4044\n",
            "Epoch 16/20\n",
            "363/363 [==============================] - 1s 2ms/step - loss: 0.4495 - val_loss: 0.4007\n",
            "Epoch 17/20\n",
            "363/363 [==============================] - 1s 2ms/step - loss: 0.4378 - val_loss: 0.4013\n",
            "Epoch 18/20\n",
            "363/363 [==============================] - 1s 2ms/step - loss: 0.4375 - val_loss: 0.3987\n",
            "Epoch 19/20\n",
            "363/363 [==============================] - 1s 2ms/step - loss: 0.4151 - val_loss: 0.3934\n",
            "Epoch 20/20\n",
            "363/363 [==============================] - 1s 2ms/step - loss: 0.4078 - val_loss: 0.4204\n",
            "162/162 [==============================] - 0s 1ms/step - loss: 0.4219\n"
          ],
          "name": "stdout"
        }
      ]
    },
    {
      "cell_type": "code",
      "metadata": {
        "id": "749uVdlg86oO"
      },
      "source": [
        "np.random.seed(42)\r\n",
        "tf.random.set_seed(42)"
      ],
      "execution_count": 59,
      "outputs": []
    },
    {
      "cell_type": "code",
      "metadata": {
        "id": "AsGsLfNT9UxH"
      },
      "source": [
        "input_A = keras.layers.Input(shape=[5], name='wide_input')\r\n",
        "input_B = keras.layers.Input(shape=[6], name='deep_input')\r\n",
        "hidden1 = keras.layers.Dense(30, activation='relu')(input_B)\r\n",
        "hidden2 = keras.layers.Dense(30, activation='relu')(hidden1)\r\n",
        "concat = keras.layers.concatenate([input_A, hidden2])\r\n",
        "output = keras.layers.Dense(1, name='main_output')(concat)\r\n",
        "aux_output = keras.layers.Dense(1, name='aux_output')(hidden2)\r\n",
        "model = keras.models.Model(inputs=[input_A, input_B],\r\n",
        "                           outputs=[output, aux_output])"
      ],
      "execution_count": 60,
      "outputs": []
    },
    {
      "cell_type": "code",
      "metadata": {
        "id": "bylYME7yMCSo"
      },
      "source": [
        "model.compile(loss=['mse', 'mse'], loss_weights=[0.9, 0.1], optimizer=keras.optimizers.SGD(lr=1e-3))"
      ],
      "execution_count": 61,
      "outputs": []
    },
    {
      "cell_type": "code",
      "metadata": {
        "colab": {
          "base_uri": "https://localhost:8080/"
        },
        "id": "vn0H9p97MKI1",
        "outputId": "c1e4736a-b582-4947-855c-62bb027c682d"
      },
      "source": [
        "history = model.fit([X_train_A, X_train_B], [y_train, y_train], epochs=20, validation_data=([X_valid_A, X_valid_B], [y_valid, y_valid]))"
      ],
      "execution_count": 62,
      "outputs": [
        {
          "output_type": "stream",
          "text": [
            "Epoch 1/20\n",
            "363/363 [==============================] - 2s 3ms/step - loss: 3.4633 - main_output_loss: 3.3289 - aux_output_loss: 4.6732 - val_loss: 1.6233 - val_main_output_loss: 0.8468 - val_aux_output_loss: 8.6117\n",
            "Epoch 2/20\n",
            "363/363 [==============================] - 1s 3ms/step - loss: 0.9807 - main_output_loss: 0.7503 - aux_output_loss: 3.0537 - val_loss: 1.5163 - val_main_output_loss: 0.6836 - val_aux_output_loss: 9.0109\n",
            "Epoch 3/20\n",
            "363/363 [==============================] - 1s 3ms/step - loss: 0.7742 - main_output_loss: 0.6290 - aux_output_loss: 2.0810 - val_loss: 1.4639 - val_main_output_loss: 0.6229 - val_aux_output_loss: 9.0326\n",
            "Epoch 4/20\n",
            "363/363 [==============================] - 1s 3ms/step - loss: 0.6952 - main_output_loss: 0.5897 - aux_output_loss: 1.6449 - val_loss: 1.3388 - val_main_output_loss: 0.5481 - val_aux_output_loss: 8.4552\n",
            "Epoch 5/20\n",
            "363/363 [==============================] - 1s 3ms/step - loss: 0.6469 - main_output_loss: 0.5508 - aux_output_loss: 1.5118 - val_loss: 1.2177 - val_main_output_loss: 0.5194 - val_aux_output_loss: 7.5030\n",
            "Epoch 6/20\n",
            "363/363 [==============================] - 1s 3ms/step - loss: 0.6120 - main_output_loss: 0.5251 - aux_output_loss: 1.3943 - val_loss: 1.0935 - val_main_output_loss: 0.5106 - val_aux_output_loss: 6.3396\n",
            "Epoch 7/20\n",
            "363/363 [==============================] - 1s 3ms/step - loss: 0.6114 - main_output_loss: 0.5256 - aux_output_loss: 1.3833 - val_loss: 0.9918 - val_main_output_loss: 0.5115 - val_aux_output_loss: 5.3151\n",
            "Epoch 8/20\n",
            "363/363 [==============================] - 1s 3ms/step - loss: 0.5765 - main_output_loss: 0.5024 - aux_output_loss: 1.2439 - val_loss: 0.8733 - val_main_output_loss: 0.4733 - val_aux_output_loss: 4.4740\n",
            "Epoch 9/20\n",
            "363/363 [==============================] - 1s 3ms/step - loss: 0.5535 - main_output_loss: 0.4811 - aux_output_loss: 1.2057 - val_loss: 0.7832 - val_main_output_loss: 0.4555 - val_aux_output_loss: 3.7323\n",
            "Epoch 10/20\n",
            "363/363 [==============================] - 1s 3ms/step - loss: 0.5456 - main_output_loss: 0.4708 - aux_output_loss: 1.2189 - val_loss: 0.7170 - val_main_output_loss: 0.4604 - val_aux_output_loss: 3.0262\n",
            "Epoch 11/20\n",
            "363/363 [==============================] - 1s 3ms/step - loss: 0.5297 - main_output_loss: 0.4587 - aux_output_loss: 1.1684 - val_loss: 0.6510 - val_main_output_loss: 0.4293 - val_aux_output_loss: 2.6468\n",
            "Epoch 12/20\n",
            "363/363 [==============================] - 1s 3ms/step - loss: 0.5181 - main_output_loss: 0.4501 - aux_output_loss: 1.1305 - val_loss: 0.6051 - val_main_output_loss: 0.4310 - val_aux_output_loss: 2.1722\n",
            "Epoch 13/20\n",
            "363/363 [==============================] - 1s 3ms/step - loss: 0.5100 - main_output_loss: 0.4487 - aux_output_loss: 1.0620 - val_loss: 0.5644 - val_main_output_loss: 0.4161 - val_aux_output_loss: 1.8992\n",
            "Epoch 14/20\n",
            "363/363 [==============================] - 1s 3ms/step - loss: 0.5064 - main_output_loss: 0.4459 - aux_output_loss: 1.0503 - val_loss: 0.5354 - val_main_output_loss: 0.4119 - val_aux_output_loss: 1.6466\n",
            "Epoch 15/20\n",
            "363/363 [==============================] - 1s 3ms/step - loss: 0.5027 - main_output_loss: 0.4452 - aux_output_loss: 1.0207 - val_loss: 0.5124 - val_main_output_loss: 0.4047 - val_aux_output_loss: 1.4812\n",
            "Epoch 16/20\n",
            "363/363 [==============================] - 1s 3ms/step - loss: 0.5057 - main_output_loss: 0.4480 - aux_output_loss: 1.0249 - val_loss: 0.4934 - val_main_output_loss: 0.4034 - val_aux_output_loss: 1.3035\n",
            "Epoch 17/20\n",
            "363/363 [==============================] - 1s 3ms/step - loss: 0.4931 - main_output_loss: 0.4360 - aux_output_loss: 1.0075 - val_loss: 0.4801 - val_main_output_loss: 0.3984 - val_aux_output_loss: 1.2150\n",
            "Epoch 18/20\n",
            "363/363 [==============================] - 1s 3ms/step - loss: 0.4922 - main_output_loss: 0.4352 - aux_output_loss: 1.0053 - val_loss: 0.4694 - val_main_output_loss: 0.3962 - val_aux_output_loss: 1.1279\n",
            "Epoch 19/20\n",
            "363/363 [==============================] - 1s 3ms/step - loss: 0.4658 - main_output_loss: 0.4139 - aux_output_loss: 0.9323 - val_loss: 0.4580 - val_main_output_loss: 0.3936 - val_aux_output_loss: 1.0372\n",
            "Epoch 20/20\n",
            "363/363 [==============================] - 1s 3ms/step - loss: 0.4589 - main_output_loss: 0.4072 - aux_output_loss: 0.9243 - val_loss: 0.4655 - val_main_output_loss: 0.4048 - val_aux_output_loss: 1.0118\n"
          ],
          "name": "stdout"
        }
      ]
    },
    {
      "cell_type": "code",
      "metadata": {
        "colab": {
          "base_uri": "https://localhost:8080/"
        },
        "id": "8BVPiUv9MxEA",
        "outputId": "f048d002-cf4e-4be7-ca76-38269193a669"
      },
      "source": [
        "total_loss, main_loss, aux_loss = model.evaluate(\r\n",
        "    [X_test_A, X_test_B], [y_test, y_test])\r\n",
        "y_pred_main, y_pred_aux = model.predict([X_new_A, X_new_B])"
      ],
      "execution_count": 63,
      "outputs": [
        {
          "output_type": "stream",
          "text": [
            "162/162 [==============================] - 0s 2ms/step - loss: 0.4668 - main_output_loss: 0.4178 - aux_output_loss: 0.9082\n",
            "WARNING:tensorflow:5 out of the last 6 calls to <function Model.make_predict_function.<locals>.predict_function at 0x7fbfecf21680> triggered tf.function retracing. Tracing is expensive and the excessive number of tracings could be due to (1) creating @tf.function repeatedly in a loop, (2) passing tensors with different shapes, (3) passing Python objects instead of tensors. For (1), please define your @tf.function outside of the loop. For (2), @tf.function has experimental_relax_shapes=True option that relaxes argument shapes that can avoid unnecessary retracing. For (3), please refer to https://www.tensorflow.org/guide/function#controlling_retracing and https://www.tensorflow.org/api_docs/python/tf/function for  more details.\n"
          ],
          "name": "stdout"
        }
      ]
    },
    {
      "cell_type": "markdown",
      "metadata": {
        "id": "Ra49EDhRNGn2"
      },
      "source": [
        "## 10.2.5 서브클래싱 API로 동적 모델 만들기"
      ]
    }
  ]
}